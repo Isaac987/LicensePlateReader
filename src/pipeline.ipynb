{
 "cells": [
  {
   "cell_type": "code",
   "execution_count": 2,
   "metadata": {},
   "outputs": [],
   "source": [
    "import os\n",
    "import cv2\n",
    "import easyocr\n",
    "import torch\n",
    "import matplotlib.pyplot as plt\n",
    "%matplotlib inline"
   ]
  },
  {
   "cell_type": "markdown",
   "metadata": {},
   "source": [
    "### Setup paths"
   ]
  },
  {
   "cell_type": "code",
   "execution_count": 3,
   "metadata": {},
   "outputs": [],
   "source": [
    "ROOT = r\"C:\\\\Users\\\\iperkins\\\\Develop\\\\LicensePlateReader\\\\\"\n",
    "\n",
    "PATHS = {\n",
    "    \"data\": os.path.join(ROOT, \"data\"),\n",
    "    \"models\": os.path.join(ROOT, \"models\"),\n",
    "}\n",
    "DATA = {\n",
    "    \"img00\" : os.path.join(PATHS[\"data\"], \"car00.webp\"),\n",
    "    \"img01\" : os.path.join(PATHS[\"data\"], \"car01.webp\"),\n",
    "    \"img02\" : os.path.join(PATHS[\"data\"], \"car02.jpg\"),\n",
    "    \"img03\" : os.path.join(PATHS[\"data\"], \"car03.jpg\"),\n",
    "    \"img04\" : os.path.join(PATHS[\"data\"], \"car04.jpg\"),\n",
    "    \"dashcam\" : os.path.join(PATHS[\"data\"], \"dashcam.mp4\"),\n",
    "}\n",
    "\n",
    "MODELS = {\n",
    "    \"plates_pt\" : os.path.join(PATHS[\"models\"], \"plates.pt\"),\n",
    "    \"plates_n_pt\" : os.path.join(PATHS[\"models\"], \"plates_n.pt\"),\n",
    "    \"plates_onnx\" : os.path.join(PATHS[\"models\"], \"plates.onnx\"),\n",
    "}\n",
    "\n",
    "SELECTED_MODEL = MODELS[\"plates_n_pt\"]"
   ]
  },
  {
   "cell_type": "markdown",
   "metadata": {},
   "source": [
    "### Load models"
   ]
  },
  {
   "cell_type": "code",
   "execution_count": null,
   "metadata": {},
   "outputs": [],
   "source": [
    "plate_detector = torch.hub.load('ultralytics/yolov5', 'custom', path=SELECTED_MODEL)\n",
    "plate_reader = easyocr.Reader([\"en\"])"
   ]
  },
  {
   "cell_type": "code",
   "execution_count": null,
   "metadata": {},
   "outputs": [],
   "source": [
    "img = cv2.imread(DATA[\"img01\"])\n",
    "result = plate_detector(cv2.cvtColor(img, cv2.COLOR_BGR2RGB))\n",
    "result.show()"
   ]
  },
  {
   "cell_type": "code",
   "execution_count": null,
   "metadata": {},
   "outputs": [],
   "source": [
    "# x1, y1, x2, y2, conf = result.xyxy[0].numpy()[:, :-1][0].astype(int)\n",
    "# print(result.xywh[0].numpy()[:, :-1][0].astype(int))\n",
    "conf = result.xyxy[0].numpy()\n",
    "conf[0][:-2].astype(int)"
   ]
  },
  {
   "cell_type": "code",
   "execution_count": null,
   "metadata": {},
   "outputs": [],
   "source": [
    "bbox = cv2.rectangle(img.copy(), (x1, y1), (x2, y2), (0, 0, 255), 10)\n",
    "plt.imshow(cv2.cvtColor(bbox, cv2.COLOR_BGR2RGB))\n",
    "plt.show()"
   ]
  },
  {
   "cell_type": "code",
   "execution_count": null,
   "metadata": {},
   "outputs": [],
   "source": [
    "plate = img[y1:y2, x1:x2]\n",
    "plt.imshow(cv2.cvtColor(plate, cv2.COLOR_BGR2RGB))\n",
    "plt.show()"
   ]
  },
  {
   "cell_type": "code",
   "execution_count": 4,
   "metadata": {},
   "outputs": [
    {
     "name": "stderr",
     "output_type": "stream",
     "text": [
      "Using cache found in C:\\Users\\iperkins/.cache\\torch\\hub\\ultralytics_yolov5_master\n",
      "YOLOv5  2023-6-30 Python-3.11.4 torch-2.0.1+cpu CPU\n",
      "\n",
      "Fusing layers... \n",
      "Model summary: 157 layers, 1760518 parameters, 0 gradients, 4.1 GFLOPs\n",
      "Adding AutoShape... \n"
     ]
    }
   ],
   "source": [
    "from PlateDetector import PlateDetector\n",
    "from Plate import Plate\n",
    "import numpy as np\n",
    "\n",
    "img = cv2.imread(DATA[\"img01\"])\n",
    "pd = PlateDetector(MODELS[\"plates_n_pt\"])\n",
    "plates = pd.Predict(img)"
   ]
  },
  {
   "cell_type": "code",
   "execution_count": 6,
   "metadata": {},
   "outputs": [
    {
     "data": {
      "text/plain": [
       "array([<Plate.Plate object at 0x000002A0B5228310>], dtype=object)"
      ]
     },
     "execution_count": 6,
     "metadata": {},
     "output_type": "execute_result"
    }
   ],
   "source": [
    "plates"
   ]
  },
  {
   "cell_type": "code",
   "execution_count": null,
   "metadata": {},
   "outputs": [],
   "source": []
  }
 ],
 "metadata": {
  "kernelspec": {
   "display_name": "Python 3",
   "language": "python",
   "name": "python3"
  },
  "language_info": {
   "codemirror_mode": {
    "name": "ipython",
    "version": 3
   },
   "file_extension": ".py",
   "mimetype": "text/x-python",
   "name": "python",
   "nbconvert_exporter": "python",
   "pygments_lexer": "ipython3",
   "version": "3.11.4"
  },
  "orig_nbformat": 4
 },
 "nbformat": 4,
 "nbformat_minor": 2
}
