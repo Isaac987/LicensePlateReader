{
 "cells": [
  {
   "cell_type": "code",
   "execution_count": null,
   "metadata": {},
   "outputs": [],
   "source": [
    "import os\n",
    "import cv2\n",
    "import easyocr\n",
    "import torch\n",
    "import matplotlib.pyplot as plt\n",
    "from ultralytics import YOLO\n",
    "%matplotlib inline"
   ]
  },
  {
   "cell_type": "code",
   "execution_count": null,
   "metadata": {},
   "outputs": [],
   "source": [
    "ROOT = os.path.abspath(\"..\")\n",
    "\n",
    "PATHS = {\n",
    "    \"data\": os.path.join(ROOT, \"data\"),\n",
    "    \"models\": os.path.join(ROOT, \"models\"),\n",
    "}\n",
    "DATA = {\n",
    "    \"img00\" : os.path.join(PATHS[\"data\"], \"car00.webp\"),\n",
    "    \"img01\" : os.path.join(PATHS[\"data\"], \"car01.webp\"),\n",
    "    \"img02\" : os.path.join(PATHS[\"data\"], \"car02.jpg\"),\n",
    "    \"img03\" : os.path.join(PATHS[\"data\"], \"car03.jpg\"),\n",
    "    \"img04\" : os.path.join(PATHS[\"data\"], \"car04.jpg\"),\n",
    "    \"video\" : os.path.join(PATHS[\"data\"], \"video.mp4\"),\n",
    "}\n",
    "\n",
    "MODELS = {\n",
    "    \"plates_pt\" : os.path.join(PATHS[\"models\"], \"plates.pt\"),\n",
    "    \"plates_n_pt\" : os.path.join(PATHS[\"models\"], \"plates_n.pt\"),\n",
    "    \"plates_onnx\" : os.path.join(PATHS[\"models\"], \"plates.onnx\"),\n",
    "    \"platesv8_pt\" : os.path.join(PATHS[\"models\"], \"plates_yolov8.pt\"),\n",
    "    \"platesv8_onnx\" : os.path.join(PATHS[\"models\"], \"plates_yolov8.onnx\"),\n",
    "}\n",
    "\n",
    "SELECTED_MODEL = MODELS[\"platesv8_pt\"]\n",
    "SELECTED_IMAGE = DATA[\"video\"]"
   ]
  },
  {
   "cell_type": "code",
   "execution_count": null,
   "metadata": {},
   "outputs": [],
   "source": [
    "model = YOLO(SELECTED_MODEL)"
   ]
  },
  {
   "cell_type": "code",
   "execution_count": null,
   "metadata": {},
   "outputs": [],
   "source": [
    "res = model.predict(DATA[\"img01\"])"
   ]
  },
  {
   "cell_type": "code",
   "execution_count": null,
   "metadata": {},
   "outputs": [],
   "source": [
    "for r in res:\n",
    "    print(SELECTED_IMAGE)"
   ]
  },
  {
   "cell_type": "code",
   "execution_count": null,
   "metadata": {},
   "outputs": [],
   "source": [
    "cap = cv2.VideoCapture(DATA[\"video\"])\n",
    "assert cap.isOpened()\n",
    "\n",
    "while (True):\n",
    "    ret, frame = cap.read()\n",
    "    height, width = frame.shape[:2]\n",
    "\n",
    "    results = model.predict(frame)\n",
    "    rect = frame.copy()\n",
    "\n",
    "    for result in results:\n",
    "        x1, y1, x2, y2 = result.boxes.xyxy[0].numpy().astype(int)\n",
    "        rect = cv2.rectangle(rect, (x1, y1), (x2, y2), (0, 0, 255), 5)\n",
    "\n",
    "    cv2.imshow(\"Plate Detection\", rect)\n",
    "\n",
    "    if (cv2.waitKey(5) & 0xFF == 27):\n",
    "        break\n",
    "\n",
    "cap.release()\n",
    "cv2.destroyAllWindows()"
   ]
  },
  {
   "cell_type": "code",
   "execution_count": null,
   "metadata": {},
   "outputs": [],
   "source": []
  }
 ],
 "metadata": {
  "kernelspec": {
   "display_name": "venv",
   "language": "python",
   "name": "python3"
  },
  "language_info": {
   "codemirror_mode": {
    "name": "ipython",
    "version": 3
   },
   "file_extension": ".py",
   "mimetype": "text/x-python",
   "name": "python",
   "nbconvert_exporter": "python",
   "pygments_lexer": "ipython3",
   "version": "3.10.6"
  },
  "orig_nbformat": 4
 },
 "nbformat": 4,
 "nbformat_minor": 2
}
