{
 "cells": [
  {
   "cell_type": "code",
   "execution_count": 2,
   "metadata": {},
   "outputs": [],
   "source": [
    "import os\n",
    "import numpy as np\n",
    "import cv2\n",
    "import torch\n",
    "import easyocr\n",
    "from PlateReaderUtils import *"
   ]
  },
  {
   "attachments": {},
   "cell_type": "markdown",
   "metadata": {},
   "source": [
    "### Setup file paths"
   ]
  },
  {
   "cell_type": "code",
   "execution_count": 3,
   "metadata": {},
   "outputs": [],
   "source": [
    "ROOT = os.path.abspath(\".\")\n",
    "\n",
    "PATHS = {\n",
    "    \"data\": os.path.join(ROOT, \"data\"),\n",
    "    \"models\": os.path.join(ROOT, \"models\"),\n",
    "}\n",
    "\n",
    "DATA = {\n",
    "    \"img00\" : os.path.join(PATHS[\"data\"], \"car00.webp\"),\n",
    "    \"img01\" : os.path.join(PATHS[\"data\"], \"car01.webp\"),\n",
    "    \"img02\" : os.path.join(PATHS[\"data\"], \"car02.jpg\"),\n",
    "    \"img03\" : os.path.join(PATHS[\"data\"], \"car03.jpg\"),\n",
    "    \"img04\" : os.path.join(PATHS[\"data\"], \"car04.jpg\"),\n",
    "    \"dashcam\" : os.path.join(PATHS[\"data\"], \"dashcam.mp4\"),\n",
    "}\n",
    "\n",
    "MODELS = {\n",
    "    \"plates_pt\" : os.path.join(PATHS[\"models\"], \"plates.pt\"),\n",
    "    \"plates_onnx\" : os.path.join(PATHS[\"models\"], \"plates.onnx\"),\n",
    "}"
   ]
  },
  {
   "attachments": {},
   "cell_type": "markdown",
   "metadata": {},
   "source": [
    "### Initialize models"
   ]
  },
  {
   "cell_type": "code",
   "execution_count": 4,
   "metadata": {},
   "outputs": [
    {
     "name": "stderr",
     "output_type": "stream",
     "text": [
      "Using cache found in /home/iperkins/.cache/torch/hub/ultralytics_yolov5_master\n",
      "YOLOv5 🚀 2023-6-27 Python-3.10.6 torch-2.0.1+cu117 CPU\n",
      "\n",
      "Fusing layers... \n",
      "Model summary: 212 layers, 20852934 parameters, 0 gradients, 47.9 GFLOPs\n",
      "Adding AutoShape... \n",
      "Neither CUDA nor MPS are available - defaulting to CPU. Note: This module is much faster with a GPU.\n"
     ]
    }
   ],
   "source": [
    "plate_detector = torch.hub.load('ultralytics/yolov5', 'custom', path=MODELS[\"plates_pt\"])\n",
    "plate_reader = easyocr.Reader([\"en\"])"
   ]
  },
  {
   "attachments": {},
   "cell_type": "markdown",
   "metadata": {},
   "source": [
    "### Initialize model variables"
   ]
  },
  {
   "cell_type": "code",
   "execution_count": 5,
   "metadata": {},
   "outputs": [],
   "source": [
    "device = \"cuda\" if torch.cuda.is_available() else \"cpu\"\n",
    "object_classes = plate_detector.names"
   ]
  },
  {
   "attachments": {},
   "cell_type": "markdown",
   "metadata": {},
   "source": [
    "### Initalize parameters"
   ]
  },
  {
   "cell_type": "code",
   "execution_count": 6,
   "metadata": {},
   "outputs": [],
   "source": [
    "plate_detector_thresh = 0.5"
   ]
  },
  {
   "cell_type": "code",
   "execution_count": null,
   "metadata": {},
   "outputs": [],
   "source": []
  }
 ],
 "metadata": {
  "kernelspec": {
   "display_name": "venv",
   "language": "python",
   "name": "python3"
  },
  "language_info": {
   "codemirror_mode": {
    "name": "ipython",
    "version": 3
   },
   "file_extension": ".py",
   "mimetype": "text/x-python",
   "name": "python",
   "nbconvert_exporter": "python",
   "pygments_lexer": "ipython3",
   "version": "3.10.6"
  },
  "orig_nbformat": 4
 },
 "nbformat": 4,
 "nbformat_minor": 2
}
