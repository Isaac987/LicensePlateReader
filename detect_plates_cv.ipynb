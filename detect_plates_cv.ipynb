{
 "cells": [
  {
   "cell_type": "code",
   "execution_count": 3,
   "metadata": {},
   "outputs": [],
   "source": [
    "import os\n",
    "import cv2 as cv\n",
    "import numpy as np\n",
    "import matplotlib.pyplot as plt"
   ]
  },
  {
   "attachments": {},
   "cell_type": "markdown",
   "metadata": {},
   "source": [
    "# Setup directories and files"
   ]
  },
  {
   "cell_type": "code",
   "execution_count": 4,
   "metadata": {},
   "outputs": [],
   "source": [
    "PATHS = {\n",
    "    \"data\" : os.path.join(\"data\"),\n",
    "    \"cars\" : os.path.join(\"data\", \"cars\"),\n",
    "    \"models\" : os.path.join(\"models\"),\n",
    "}\n",
    "\n",
    "DATA = {\n",
    "    \"img00\" : os.path.join(PATHS[\"cars\"], \"car00.webp\"),\n",
    "    \"img01\" : os.path.join(PATHS[\"cars\"], \"car01.webp\"),\n",
    "    \"img02\" : os.path.join(PATHS[\"cars\"], \"car02.jpg\"),\n",
    "    \"img03\" : os.path.join(PATHS[\"cars\"], \"car03.jpg\"),\n",
    "    \"img04\" : os.path.join(PATHS[\"cars\"], \"car04.jpg\"),\n",
    "    \"dashcam\" : os.path.join(PATHS[\"cars\"], \"dashcam.mp4\"),\n",
    "}\n",
    "\n",
    "MODELS = {\n",
    "    \"plates_pt\" : os.path.join(PATHS[\"models\"], \"plates.pt\"),\n",
    "    \"plates_onnx\" : os.path.join(PATHS[\"models\"], \"plates.onnx\"),\n",
    "}"
   ]
  },
  {
   "cell_type": "code",
   "execution_count": 6,
   "metadata": {},
   "outputs": [],
   "source": [
    "net = cv.dnn.readNetFromONNX(MODELS[\"plates_onnx\"])"
   ]
  },
  {
   "cell_type": "code",
   "execution_count": 62,
   "metadata": {},
   "outputs": [
    {
     "data": {
      "text/plain": [
       "(1, 25200, 6)"
      ]
     },
     "execution_count": 62,
     "metadata": {},
     "output_type": "execute_result"
    }
   ],
   "source": [
    "img = cv.imread(DATA[\"img04\"])\n",
    "blob = cv.dnn.blobFromImage(img, 1/255, (640,640), swapRB=True, mean=(0,0,0), crop= False)\n",
    "net.setInput(blob)\n",
    "outputs= net.forward(net.getUnconnectedOutLayersNames())"
   ]
  },
  {
   "cell_type": "code",
   "execution_count": 63,
   "metadata": {},
   "outputs": [
    {
     "ename": "IndexError",
     "evalue": "index 4 is out of bounds for axis 0 with size 1",
     "output_type": "error",
     "traceback": [
      "\u001b[0;31m---------------------------------------------------------------------------\u001b[0m",
      "\u001b[0;31mIndexError\u001b[0m                                Traceback (most recent call last)",
      "Cell \u001b[0;32mIn[63], line 3\u001b[0m\n\u001b[1;32m      1\u001b[0m \u001b[39mfor\u001b[39;00m out \u001b[39min\u001b[39;00m outputs:\n\u001b[1;32m      2\u001b[0m   detect\u001b[39m=\u001b[39mout\n\u001b[0;32m----> 3\u001b[0m   confidence\u001b[39m=\u001b[39m detect[\u001b[39m4\u001b[39;49m]\n\u001b[1;32m      4\u001b[0m   \u001b[39mif\u001b[39;00m confidence \u001b[39m>\u001b[39m\u001b[39m=\u001b[39m conf_threshold:\n\u001b[1;32m      5\u001b[0m     class_score\u001b[39m=\u001b[39m detect[\u001b[39m5\u001b[39m:]\n",
      "\u001b[0;31mIndexError\u001b[0m: index 4 is out of bounds for axis 0 with size 1"
     ]
    }
   ],
   "source": [
    "for out in outputs:\n",
    "  detect=out\n",
    "  confidence= detect[4]\n",
    "  if confidence >= conf_threshold:\n",
    "    class_score= detect[5:]\n",
    "    class_id= np.argmax(class_score)\n",
    "    if (class_score[class_id]> score_threshold):\n",
    "      score.append(confidence)\n",
    "      class_ids.append(class_id)\n",
    "      x, y, w, h = detect[0], detect[1], detect[2], detect[3]\n",
    "      left= int((x - w/2)* x_scale )\n",
    "      top= int((y - h/2)*y_scale)\n",
    "      width = int(w * x_scale)\n",
    "      height = int( y*y_scale)\n",
    "      box= np.array([left, top, width, height])\n",
    "      boxes.append(box)"
   ]
  },
  {
   "cell_type": "code",
   "execution_count": null,
   "metadata": {},
   "outputs": [],
   "source": []
  }
 ],
 "metadata": {
  "kernelspec": {
   "display_name": "venv",
   "language": "python",
   "name": "python3"
  },
  "language_info": {
   "codemirror_mode": {
    "name": "ipython",
    "version": 3
   },
   "file_extension": ".py",
   "mimetype": "text/x-python",
   "name": "python",
   "nbconvert_exporter": "python",
   "pygments_lexer": "ipython3",
   "version": "3.10.6"
  },
  "orig_nbformat": 4
 },
 "nbformat": 4,
 "nbformat_minor": 2
}
